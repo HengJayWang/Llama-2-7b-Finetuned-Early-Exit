{
 "cells": [
  {
   "cell_type": "markdown",
   "id": "b5deddb4",
   "metadata": {},
   "source": [
    "## Fine-Tuning LLaMA 2 with Alpaca dataset (SFTTrainer Testing)\n",
    "| Ref: [[SFTTrainer] Fix non packed dataset #444](https://github.com/huggingface/trl/pull/444)"
   ]
  },
  {
   "cell_type": "code",
   "execution_count": 1,
   "id": "99bb1675",
   "metadata": {},
   "outputs": [
    {
     "ename": "ModuleNotFoundError",
     "evalue": "No module named 'datasets'",
     "output_type": "error",
     "traceback": [
      "\u001b[0;31m---------------------------------------------------------------------------\u001b[0m",
      "\u001b[0;31mModuleNotFoundError\u001b[0m                       Traceback (most recent call last)",
      "Cell \u001b[0;32mIn[1], line 1\u001b[0m\n\u001b[0;32m----> 1\u001b[0m \u001b[38;5;28;01mfrom\u001b[39;00m \u001b[38;5;21;01mdatasets\u001b[39;00m \u001b[38;5;28;01mimport\u001b[39;00m load_dataset\n\u001b[1;32m      2\u001b[0m \u001b[38;5;28;01mfrom\u001b[39;00m \u001b[38;5;21;01mtrl\u001b[39;00m \u001b[38;5;28;01mimport\u001b[39;00m SFTTrainer\n\u001b[1;32m      3\u001b[0m \u001b[38;5;28;01mfrom\u001b[39;00m \u001b[38;5;21;01mtransformers\u001b[39;00m \u001b[38;5;28;01mimport\u001b[39;00m (\n\u001b[1;32m      4\u001b[0m     AutoModelForCausalLM,\n\u001b[1;32m      5\u001b[0m     AutoTokenizer,\n\u001b[1;32m      6\u001b[0m )\n",
      "\u001b[0;31mModuleNotFoundError\u001b[0m: No module named 'datasets'"
     ]
    }
   ],
   "source": [
    "from datasets import load_dataset\n",
    "from trl import SFTTrainer\n",
    "from transformers import (\n",
    "    AutoModelForCausalLM,\n",
    "    AutoTokenizer,\n",
    ")"
   ]
  },
  {
   "cell_type": "code",
   "execution_count": null,
   "id": "613e20c1",
   "metadata": {},
   "outputs": [],
   "source": [
    "# The model that you want to train from the Hugging Face hub\n",
    "model_name = \"meta-llama/Llama-2-7b-hf\"\n",
    "\n",
    "# The instruction dataset to use\n",
    "dataset_name = \"yahma/alpaca-cleaned\"\n",
    "\n",
    "dataset = load_dataset(dataset_name, split=\"train\")\n",
    "model = transformers.AutoModelForCausalLM.from_pretrained(model_name)\n",
    "tokenizer = transformers.AutoTokenizer.from_pretrained(model_name)"
   ]
  },
  {
   "cell_type": "markdown",
   "id": "d23d61e5",
   "metadata": {},
   "source": [
    "## Define Formatting func"
   ]
  },
  {
   "cell_type": "code",
   "execution_count": null,
   "id": "9b17e778",
   "metadata": {},
   "outputs": [],
   "source": [
    "def formatting_prompts_func(examples):\n",
    "    output_text = []\n",
    "    for i in range(len(examples[\"instruction\"])):\n",
    "        instruction = examples[\"instruction\"][i]\n",
    "        input_text = examples[\"input\"][i]\n",
    "        response = examples[\"output\"][i]\n",
    "\n",
    "        if len(input_text) >= 2:\n",
    "            text = f'''Below is an instruction that describes a task, paired with an input that provides further context. Write a response that appropriately completes the request.\n",
    "            \n",
    "            ### Instruction:\n",
    "            {instruction}\n",
    "            \n",
    "            ### Input:\n",
    "            {input_text}\n",
    "            \n",
    "            ### Response:\n",
    "            {response}\n",
    "            '''\n",
    "        else:\n",
    "            text = f'''Below is an instruction that describes a task, paired with an input that provides further context. Write a response that appropriately completes the request.\n",
    "            \n",
    "            ### Instruction:\n",
    "            {instruction}\n",
    "            \n",
    "            ### Response:\n",
    "            {response}\n",
    "            '''\n",
    "        output_text.append(text)\n",
    "\n",
    "    return output_text"
   ]
  },
  {
   "cell_type": "code",
   "execution_count": null,
   "id": "683aad9d",
   "metadata": {},
   "outputs": [],
   "source": [
    "trainer = SFTTrainer(\n",
    "    model,\n",
    "    tokenizer=tokenizer,\n",
    "    train_dataset=dataset,\n",
    "    formatting_func=formatting_prompts_func,\n",
    "    max_seq_length=256,\n",
    "    packing=False,\n",
    ")"
   ]
  },
  {
   "cell_type": "code",
   "execution_count": null,
   "id": "06838f7a",
   "metadata": {},
   "outputs": [],
   "source": [
    "trainer.train()"
   ]
  },
  {
   "cell_type": "code",
   "execution_count": null,
   "id": "05a8c4f8",
   "metadata": {},
   "outputs": [],
   "source": []
  }
 ],
 "metadata": {
  "kernelspec": {
   "display_name": "Python 3 (ipykernel)",
   "language": "python",
   "name": "python3"
  },
  "language_info": {
   "codemirror_mode": {
    "name": "ipython",
    "version": 3
   },
   "file_extension": ".py",
   "mimetype": "text/x-python",
   "name": "python",
   "nbconvert_exporter": "python",
   "pygments_lexer": "ipython3",
   "version": "3.10.6"
  }
 },
 "nbformat": 4,
 "nbformat_minor": 5
}
